{
 "cells": [
  {
   "cell_type": "markdown",
   "id": "360ca048",
   "metadata": {},
   "source": [
    "# Part I - FordGoBike Data Analysis and Visualization\n",
    "\n",
    "***By Gaurav Yadav***\n",
    "\n",
    "## Introduction"
   ]
  },
  {
   "cell_type": "code",
   "execution_count": 6,
   "id": "b2ef5ca2",
   "metadata": {},
   "outputs": [],
   "source": [
    "import pandas as pd\n",
    "import numpy as np\n",
    "import matplotlib.pyplot as plt\n",
    "import seaborn as sns\n",
    "\n",
    "%matplotlib inline"
   ]
  },
  {
   "cell_type": "markdown",
   "id": "b5d0d55e",
   "metadata": {},
   "source": [
    "## Data"
   ]
  },
  {
   "cell_type": "code",
   "execution_count": 7,
   "id": "138a25d0",
   "metadata": {
    "scrolled": true
   },
   "outputs": [],
   "source": [
    "ford_bike = pd.read_csv('fordgobike-tripdata.csv')"
   ]
  },
  {
   "cell_type": "code",
   "execution_count": 8,
   "id": "386974c0",
   "metadata": {
    "scrolled": true
   },
   "outputs": [
    {
     "data": {
      "text/html": [
       "<div>\n",
       "<style scoped>\n",
       "    .dataframe tbody tr th:only-of-type {\n",
       "        vertical-align: middle;\n",
       "    }\n",
       "\n",
       "    .dataframe tbody tr th {\n",
       "        vertical-align: top;\n",
       "    }\n",
       "\n",
       "    .dataframe thead th {\n",
       "        text-align: right;\n",
       "    }\n",
       "</style>\n",
       "<table border=\"1\" class=\"dataframe\">\n",
       "  <thead>\n",
       "    <tr style=\"text-align: right;\">\n",
       "      <th></th>\n",
       "      <th>duration_sec</th>\n",
       "      <th>start_time</th>\n",
       "      <th>end_time</th>\n",
       "      <th>start_station_id</th>\n",
       "      <th>start_station_name</th>\n",
       "      <th>start_station_latitude</th>\n",
       "      <th>start_station_longitude</th>\n",
       "      <th>end_station_id</th>\n",
       "      <th>end_station_name</th>\n",
       "      <th>end_station_latitude</th>\n",
       "      <th>end_station_longitude</th>\n",
       "      <th>bike_id</th>\n",
       "      <th>user_type</th>\n",
       "      <th>member_birth_year</th>\n",
       "      <th>member_gender</th>\n",
       "      <th>bike_share_for_all_trip</th>\n",
       "    </tr>\n",
       "  </thead>\n",
       "  <tbody>\n",
       "    <tr>\n",
       "      <th>64376</th>\n",
       "      <td>847</td>\n",
       "      <td>2019-02-20 12:06:28.5930</td>\n",
       "      <td>2019-02-20 12:20:35.8770</td>\n",
       "      <td>20.0</td>\n",
       "      <td>Mechanics Monument Plaza (Market St at Bush St)</td>\n",
       "      <td>37.791300</td>\n",
       "      <td>-122.399051</td>\n",
       "      <td>3.0</td>\n",
       "      <td>Powell St BART Station (Market St at 4th St)</td>\n",
       "      <td>37.786375</td>\n",
       "      <td>-122.404904</td>\n",
       "      <td>6565</td>\n",
       "      <td>Subscriber</td>\n",
       "      <td>1983.0</td>\n",
       "      <td>Male</td>\n",
       "      <td>No</td>\n",
       "    </tr>\n",
       "    <tr>\n",
       "      <th>104534</th>\n",
       "      <td>1078</td>\n",
       "      <td>2019-02-14 08:15:39.8620</td>\n",
       "      <td>2019-02-14 08:33:38.0100</td>\n",
       "      <td>223.0</td>\n",
       "      <td>16th St Mission BART Station 2</td>\n",
       "      <td>37.764765</td>\n",
       "      <td>-122.420091</td>\n",
       "      <td>343.0</td>\n",
       "      <td>Bryant St at 2nd St</td>\n",
       "      <td>37.783172</td>\n",
       "      <td>-122.393572</td>\n",
       "      <td>4553</td>\n",
       "      <td>Subscriber</td>\n",
       "      <td>1991.0</td>\n",
       "      <td>Female</td>\n",
       "      <td>No</td>\n",
       "    </tr>\n",
       "    <tr>\n",
       "      <th>127614</th>\n",
       "      <td>723</td>\n",
       "      <td>2019-02-10 15:19:09.3850</td>\n",
       "      <td>2019-02-10 15:31:13.3360</td>\n",
       "      <td>92.0</td>\n",
       "      <td>Mission Bay Kids Park</td>\n",
       "      <td>37.772301</td>\n",
       "      <td>-122.393028</td>\n",
       "      <td>89.0</td>\n",
       "      <td>Division St at Potrero Ave</td>\n",
       "      <td>37.769218</td>\n",
       "      <td>-122.407646</td>\n",
       "      <td>1228</td>\n",
       "      <td>Subscriber</td>\n",
       "      <td>1983.0</td>\n",
       "      <td>Male</td>\n",
       "      <td>No</td>\n",
       "    </tr>\n",
       "    <tr>\n",
       "      <th>144477</th>\n",
       "      <td>234</td>\n",
       "      <td>2019-02-07 12:11:58.5550</td>\n",
       "      <td>2019-02-07 12:15:52.7740</td>\n",
       "      <td>266.0</td>\n",
       "      <td>Parker St at Fulton St</td>\n",
       "      <td>37.862464</td>\n",
       "      <td>-122.264791</td>\n",
       "      <td>247.0</td>\n",
       "      <td>Fulton St at Bancroft Way</td>\n",
       "      <td>37.867789</td>\n",
       "      <td>-122.265896</td>\n",
       "      <td>1339</td>\n",
       "      <td>Subscriber</td>\n",
       "      <td>1999.0</td>\n",
       "      <td>Male</td>\n",
       "      <td>No</td>\n",
       "    </tr>\n",
       "    <tr>\n",
       "      <th>148520</th>\n",
       "      <td>430</td>\n",
       "      <td>2019-02-06 21:38:49.7370</td>\n",
       "      <td>2019-02-06 21:46:00.1720</td>\n",
       "      <td>75.0</td>\n",
       "      <td>Market St at Franklin St</td>\n",
       "      <td>37.773793</td>\n",
       "      <td>-122.421239</td>\n",
       "      <td>134.0</td>\n",
       "      <td>Valencia St at 24th St</td>\n",
       "      <td>37.752428</td>\n",
       "      <td>-122.420628</td>\n",
       "      <td>4940</td>\n",
       "      <td>Subscriber</td>\n",
       "      <td>1982.0</td>\n",
       "      <td>Male</td>\n",
       "      <td>No</td>\n",
       "    </tr>\n",
       "    <tr>\n",
       "      <th>77899</th>\n",
       "      <td>219</td>\n",
       "      <td>2019-02-18 22:22:10.9370</td>\n",
       "      <td>2019-02-18 22:25:50.7980</td>\n",
       "      <td>67.0</td>\n",
       "      <td>San Francisco Caltrain Station 2  (Townsend St...</td>\n",
       "      <td>37.776639</td>\n",
       "      <td>-122.395526</td>\n",
       "      <td>321.0</td>\n",
       "      <td>5th St at Folsom</td>\n",
       "      <td>37.780146</td>\n",
       "      <td>-122.403071</td>\n",
       "      <td>4453</td>\n",
       "      <td>Subscriber</td>\n",
       "      <td>1989.0</td>\n",
       "      <td>Male</td>\n",
       "      <td>No</td>\n",
       "    </tr>\n",
       "    <tr>\n",
       "      <th>172728</th>\n",
       "      <td>218</td>\n",
       "      <td>2019-02-03 14:59:47.2080</td>\n",
       "      <td>2019-02-03 15:03:25.7230</td>\n",
       "      <td>274.0</td>\n",
       "      <td>Oregon St at Adeline St</td>\n",
       "      <td>37.857567</td>\n",
       "      <td>-122.267558</td>\n",
       "      <td>268.0</td>\n",
       "      <td>Ellsworth St at Russell St</td>\n",
       "      <td>37.857490</td>\n",
       "      <td>-122.261578</td>\n",
       "      <td>57</td>\n",
       "      <td>Subscriber</td>\n",
       "      <td>1995.0</td>\n",
       "      <td>Male</td>\n",
       "      <td>No</td>\n",
       "    </tr>\n",
       "    <tr>\n",
       "      <th>117258</th>\n",
       "      <td>729</td>\n",
       "      <td>2019-02-11 23:12:39.3720</td>\n",
       "      <td>2019-02-11 23:24:48.9800</td>\n",
       "      <td>93.0</td>\n",
       "      <td>4th St at Mission Bay Blvd S</td>\n",
       "      <td>37.770407</td>\n",
       "      <td>-122.391198</td>\n",
       "      <td>123.0</td>\n",
       "      <td>Folsom St at 19th St</td>\n",
       "      <td>37.760594</td>\n",
       "      <td>-122.414817</td>\n",
       "      <td>3067</td>\n",
       "      <td>Subscriber</td>\n",
       "      <td>1989.0</td>\n",
       "      <td>Male</td>\n",
       "      <td>No</td>\n",
       "    </tr>\n",
       "    <tr>\n",
       "      <th>85170</th>\n",
       "      <td>3072</td>\n",
       "      <td>2019-02-17 15:08:25.0110</td>\n",
       "      <td>2019-02-17 15:59:37.6480</td>\n",
       "      <td>4.0</td>\n",
       "      <td>Cyril Magnin St at Ellis St</td>\n",
       "      <td>37.785881</td>\n",
       "      <td>-122.408915</td>\n",
       "      <td>6.0</td>\n",
       "      <td>The Embarcadero at Sansome St</td>\n",
       "      <td>37.804770</td>\n",
       "      <td>-122.403234</td>\n",
       "      <td>5960</td>\n",
       "      <td>Customer</td>\n",
       "      <td>1967.0</td>\n",
       "      <td>Male</td>\n",
       "      <td>No</td>\n",
       "    </tr>\n",
       "    <tr>\n",
       "      <th>30086</th>\n",
       "      <td>15943</td>\n",
       "      <td>2019-02-24 17:54:32.8380</td>\n",
       "      <td>2019-02-24 22:20:16.1980</td>\n",
       "      <td>98.0</td>\n",
       "      <td>Valencia St at 16th St</td>\n",
       "      <td>37.765052</td>\n",
       "      <td>-122.421866</td>\n",
       "      <td>75.0</td>\n",
       "      <td>Market St at Franklin St</td>\n",
       "      <td>37.773793</td>\n",
       "      <td>-122.421239</td>\n",
       "      <td>4629</td>\n",
       "      <td>Customer</td>\n",
       "      <td>1992.0</td>\n",
       "      <td>Male</td>\n",
       "      <td>No</td>\n",
       "    </tr>\n",
       "    <tr>\n",
       "      <th>84888</th>\n",
       "      <td>355</td>\n",
       "      <td>2019-02-17 16:32:28.1610</td>\n",
       "      <td>2019-02-17 16:38:23.2820</td>\n",
       "      <td>105.0</td>\n",
       "      <td>16th St at Prosper St</td>\n",
       "      <td>37.764285</td>\n",
       "      <td>-122.431804</td>\n",
       "      <td>53.0</td>\n",
       "      <td>Grove St at Divisadero</td>\n",
       "      <td>37.775946</td>\n",
       "      <td>-122.437777</td>\n",
       "      <td>4717</td>\n",
       "      <td>Subscriber</td>\n",
       "      <td>1983.0</td>\n",
       "      <td>Other</td>\n",
       "      <td>No</td>\n",
       "    </tr>\n",
       "    <tr>\n",
       "      <th>104089</th>\n",
       "      <td>178</td>\n",
       "      <td>2019-02-14 09:04:40.4610</td>\n",
       "      <td>2019-02-14 09:07:39.1020</td>\n",
       "      <td>266.0</td>\n",
       "      <td>Parker St at Fulton St</td>\n",
       "      <td>37.862464</td>\n",
       "      <td>-122.264791</td>\n",
       "      <td>274.0</td>\n",
       "      <td>Oregon St at Adeline St</td>\n",
       "      <td>37.857567</td>\n",
       "      <td>-122.267558</td>\n",
       "      <td>1005</td>\n",
       "      <td>Customer</td>\n",
       "      <td>1990.0</td>\n",
       "      <td>Male</td>\n",
       "      <td>No</td>\n",
       "    </tr>\n",
       "    <tr>\n",
       "      <th>81148</th>\n",
       "      <td>208</td>\n",
       "      <td>2019-02-18 14:00:48.1810</td>\n",
       "      <td>2019-02-18 14:04:16.9080</td>\n",
       "      <td>243.0</td>\n",
       "      <td>Bancroft Way at College Ave</td>\n",
       "      <td>37.869360</td>\n",
       "      <td>-122.254337</td>\n",
       "      <td>249.0</td>\n",
       "      <td>Russell St at College Ave</td>\n",
       "      <td>37.858473</td>\n",
       "      <td>-122.253253</td>\n",
       "      <td>825</td>\n",
       "      <td>Subscriber</td>\n",
       "      <td>1998.0</td>\n",
       "      <td>Male</td>\n",
       "      <td>Yes</td>\n",
       "    </tr>\n",
       "    <tr>\n",
       "      <th>2356</th>\n",
       "      <td>557</td>\n",
       "      <td>2019-02-28 18:08:26.2540</td>\n",
       "      <td>2019-02-28 18:17:43.3510</td>\n",
       "      <td>126.0</td>\n",
       "      <td>Esprit Park</td>\n",
       "      <td>37.761634</td>\n",
       "      <td>-122.390648</td>\n",
       "      <td>123.0</td>\n",
       "      <td>Folsom St at 19th St</td>\n",
       "      <td>37.760594</td>\n",
       "      <td>-122.414817</td>\n",
       "      <td>5583</td>\n",
       "      <td>Subscriber</td>\n",
       "      <td>1992.0</td>\n",
       "      <td>Female</td>\n",
       "      <td>No</td>\n",
       "    </tr>\n",
       "    <tr>\n",
       "      <th>61058</th>\n",
       "      <td>1478</td>\n",
       "      <td>2019-02-20 17:43:53.8270</td>\n",
       "      <td>2019-02-20 18:08:32.2210</td>\n",
       "      <td>370.0</td>\n",
       "      <td>Jones St at Post St</td>\n",
       "      <td>37.787327</td>\n",
       "      <td>-122.413278</td>\n",
       "      <td>80.0</td>\n",
       "      <td>Townsend St at 5th St</td>\n",
       "      <td>37.775235</td>\n",
       "      <td>-122.397437</td>\n",
       "      <td>6503</td>\n",
       "      <td>Subscriber</td>\n",
       "      <td>1998.0</td>\n",
       "      <td>Male</td>\n",
       "      <td>No</td>\n",
       "    </tr>\n",
       "    <tr>\n",
       "      <th>66712</th>\n",
       "      <td>873</td>\n",
       "      <td>2019-02-20 08:26:26.4610</td>\n",
       "      <td>2019-02-20 08:40:59.6140</td>\n",
       "      <td>30.0</td>\n",
       "      <td>San Francisco Caltrain (Townsend St at 4th St)</td>\n",
       "      <td>37.776598</td>\n",
       "      <td>-122.395282</td>\n",
       "      <td>13.0</td>\n",
       "      <td>Commercial St at Montgomery St</td>\n",
       "      <td>37.794231</td>\n",
       "      <td>-122.402923</td>\n",
       "      <td>5173</td>\n",
       "      <td>Subscriber</td>\n",
       "      <td>1995.0</td>\n",
       "      <td>Female</td>\n",
       "      <td>No</td>\n",
       "    </tr>\n",
       "    <tr>\n",
       "      <th>175683</th>\n",
       "      <td>385</td>\n",
       "      <td>2019-02-02 13:44:27.3970</td>\n",
       "      <td>2019-02-02 13:50:52.5130</td>\n",
       "      <td>305.0</td>\n",
       "      <td>Ryland Park</td>\n",
       "      <td>37.342725</td>\n",
       "      <td>-121.895617</td>\n",
       "      <td>310.0</td>\n",
       "      <td>San Fernando St at 4th St</td>\n",
       "      <td>37.335885</td>\n",
       "      <td>-121.885660</td>\n",
       "      <td>3964</td>\n",
       "      <td>Subscriber</td>\n",
       "      <td>1996.0</td>\n",
       "      <td>Male</td>\n",
       "      <td>Yes</td>\n",
       "    </tr>\n",
       "    <tr>\n",
       "      <th>91289</th>\n",
       "      <td>518</td>\n",
       "      <td>2019-02-16 09:28:49.9580</td>\n",
       "      <td>2019-02-16 09:37:28.4440</td>\n",
       "      <td>3.0</td>\n",
       "      <td>Powell St BART Station (Market St at 4th St)</td>\n",
       "      <td>37.786375</td>\n",
       "      <td>-122.404904</td>\n",
       "      <td>92.0</td>\n",
       "      <td>Mission Bay Kids Park</td>\n",
       "      <td>37.772301</td>\n",
       "      <td>-122.393028</td>\n",
       "      <td>5242</td>\n",
       "      <td>Subscriber</td>\n",
       "      <td>1988.0</td>\n",
       "      <td>Male</td>\n",
       "      <td>No</td>\n",
       "    </tr>\n",
       "    <tr>\n",
       "      <th>162771</th>\n",
       "      <td>896</td>\n",
       "      <td>2019-02-05 10:10:23.9020</td>\n",
       "      <td>2019-02-05 10:25:20.7400</td>\n",
       "      <td>373.0</td>\n",
       "      <td>Potrero del Sol Park (25th St at Utah St)</td>\n",
       "      <td>37.751792</td>\n",
       "      <td>-122.405216</td>\n",
       "      <td>78.0</td>\n",
       "      <td>Folsom St at 9th St</td>\n",
       "      <td>37.773717</td>\n",
       "      <td>-122.411647</td>\n",
       "      <td>183</td>\n",
       "      <td>Subscriber</td>\n",
       "      <td>1990.0</td>\n",
       "      <td>Female</td>\n",
       "      <td>No</td>\n",
       "    </tr>\n",
       "    <tr>\n",
       "      <th>90743</th>\n",
       "      <td>653</td>\n",
       "      <td>2019-02-16 11:36:13.7500</td>\n",
       "      <td>2019-02-16 11:47:07.7260</td>\n",
       "      <td>15.0</td>\n",
       "      <td>San Francisco Ferry Building (Harry Bridges Pl...</td>\n",
       "      <td>37.795392</td>\n",
       "      <td>-122.394203</td>\n",
       "      <td>43.0</td>\n",
       "      <td>San Francisco Public Library (Grove St at Hyde...</td>\n",
       "      <td>37.778768</td>\n",
       "      <td>-122.415929</td>\n",
       "      <td>6483</td>\n",
       "      <td>Subscriber</td>\n",
       "      <td>1962.0</td>\n",
       "      <td>Male</td>\n",
       "      <td>No</td>\n",
       "    </tr>\n",
       "  </tbody>\n",
       "</table>\n",
       "</div>"
      ],
      "text/plain": [
       "        duration_sec                start_time                  end_time  \\\n",
       "64376            847  2019-02-20 12:06:28.5930  2019-02-20 12:20:35.8770   \n",
       "104534          1078  2019-02-14 08:15:39.8620  2019-02-14 08:33:38.0100   \n",
       "127614           723  2019-02-10 15:19:09.3850  2019-02-10 15:31:13.3360   \n",
       "144477           234  2019-02-07 12:11:58.5550  2019-02-07 12:15:52.7740   \n",
       "148520           430  2019-02-06 21:38:49.7370  2019-02-06 21:46:00.1720   \n",
       "77899            219  2019-02-18 22:22:10.9370  2019-02-18 22:25:50.7980   \n",
       "172728           218  2019-02-03 14:59:47.2080  2019-02-03 15:03:25.7230   \n",
       "117258           729  2019-02-11 23:12:39.3720  2019-02-11 23:24:48.9800   \n",
       "85170           3072  2019-02-17 15:08:25.0110  2019-02-17 15:59:37.6480   \n",
       "30086          15943  2019-02-24 17:54:32.8380  2019-02-24 22:20:16.1980   \n",
       "84888            355  2019-02-17 16:32:28.1610  2019-02-17 16:38:23.2820   \n",
       "104089           178  2019-02-14 09:04:40.4610  2019-02-14 09:07:39.1020   \n",
       "81148            208  2019-02-18 14:00:48.1810  2019-02-18 14:04:16.9080   \n",
       "2356             557  2019-02-28 18:08:26.2540  2019-02-28 18:17:43.3510   \n",
       "61058           1478  2019-02-20 17:43:53.8270  2019-02-20 18:08:32.2210   \n",
       "66712            873  2019-02-20 08:26:26.4610  2019-02-20 08:40:59.6140   \n",
       "175683           385  2019-02-02 13:44:27.3970  2019-02-02 13:50:52.5130   \n",
       "91289            518  2019-02-16 09:28:49.9580  2019-02-16 09:37:28.4440   \n",
       "162771           896  2019-02-05 10:10:23.9020  2019-02-05 10:25:20.7400   \n",
       "90743            653  2019-02-16 11:36:13.7500  2019-02-16 11:47:07.7260   \n",
       "\n",
       "        start_station_id                                 start_station_name  \\\n",
       "64376               20.0    Mechanics Monument Plaza (Market St at Bush St)   \n",
       "104534             223.0                     16th St Mission BART Station 2   \n",
       "127614              92.0                              Mission Bay Kids Park   \n",
       "144477             266.0                             Parker St at Fulton St   \n",
       "148520              75.0                           Market St at Franklin St   \n",
       "77899               67.0  San Francisco Caltrain Station 2  (Townsend St...   \n",
       "172728             274.0                            Oregon St at Adeline St   \n",
       "117258              93.0                       4th St at Mission Bay Blvd S   \n",
       "85170                4.0                        Cyril Magnin St at Ellis St   \n",
       "30086               98.0                             Valencia St at 16th St   \n",
       "84888              105.0                              16th St at Prosper St   \n",
       "104089             266.0                             Parker St at Fulton St   \n",
       "81148              243.0                        Bancroft Way at College Ave   \n",
       "2356               126.0                                        Esprit Park   \n",
       "61058              370.0                                Jones St at Post St   \n",
       "66712               30.0     San Francisco Caltrain (Townsend St at 4th St)   \n",
       "175683             305.0                                        Ryland Park   \n",
       "91289                3.0       Powell St BART Station (Market St at 4th St)   \n",
       "162771             373.0          Potrero del Sol Park (25th St at Utah St)   \n",
       "90743               15.0  San Francisco Ferry Building (Harry Bridges Pl...   \n",
       "\n",
       "        start_station_latitude  start_station_longitude  end_station_id  \\\n",
       "64376                37.791300              -122.399051             3.0   \n",
       "104534               37.764765              -122.420091           343.0   \n",
       "127614               37.772301              -122.393028            89.0   \n",
       "144477               37.862464              -122.264791           247.0   \n",
       "148520               37.773793              -122.421239           134.0   \n",
       "77899                37.776639              -122.395526           321.0   \n",
       "172728               37.857567              -122.267558           268.0   \n",
       "117258               37.770407              -122.391198           123.0   \n",
       "85170                37.785881              -122.408915             6.0   \n",
       "30086                37.765052              -122.421866            75.0   \n",
       "84888                37.764285              -122.431804            53.0   \n",
       "104089               37.862464              -122.264791           274.0   \n",
       "81148                37.869360              -122.254337           249.0   \n",
       "2356                 37.761634              -122.390648           123.0   \n",
       "61058                37.787327              -122.413278            80.0   \n",
       "66712                37.776598              -122.395282            13.0   \n",
       "175683               37.342725              -121.895617           310.0   \n",
       "91289                37.786375              -122.404904            92.0   \n",
       "162771               37.751792              -122.405216            78.0   \n",
       "90743                37.795392              -122.394203            43.0   \n",
       "\n",
       "                                         end_station_name  \\\n",
       "64376        Powell St BART Station (Market St at 4th St)   \n",
       "104534                                Bryant St at 2nd St   \n",
       "127614                         Division St at Potrero Ave   \n",
       "144477                          Fulton St at Bancroft Way   \n",
       "148520                             Valencia St at 24th St   \n",
       "77899                                    5th St at Folsom   \n",
       "172728                         Ellsworth St at Russell St   \n",
       "117258                               Folsom St at 19th St   \n",
       "85170                       The Embarcadero at Sansome St   \n",
       "30086                            Market St at Franklin St   \n",
       "84888                              Grove St at Divisadero   \n",
       "104089                            Oregon St at Adeline St   \n",
       "81148                           Russell St at College Ave   \n",
       "2356                                 Folsom St at 19th St   \n",
       "61058                               Townsend St at 5th St   \n",
       "66712                      Commercial St at Montgomery St   \n",
       "175683                          San Fernando St at 4th St   \n",
       "91289                               Mission Bay Kids Park   \n",
       "162771                                Folsom St at 9th St   \n",
       "90743   San Francisco Public Library (Grove St at Hyde...   \n",
       "\n",
       "        end_station_latitude  end_station_longitude  bike_id   user_type  \\\n",
       "64376              37.786375            -122.404904     6565  Subscriber   \n",
       "104534             37.783172            -122.393572     4553  Subscriber   \n",
       "127614             37.769218            -122.407646     1228  Subscriber   \n",
       "144477             37.867789            -122.265896     1339  Subscriber   \n",
       "148520             37.752428            -122.420628     4940  Subscriber   \n",
       "77899              37.780146            -122.403071     4453  Subscriber   \n",
       "172728             37.857490            -122.261578       57  Subscriber   \n",
       "117258             37.760594            -122.414817     3067  Subscriber   \n",
       "85170              37.804770            -122.403234     5960    Customer   \n",
       "30086              37.773793            -122.421239     4629    Customer   \n",
       "84888              37.775946            -122.437777     4717  Subscriber   \n",
       "104089             37.857567            -122.267558     1005    Customer   \n",
       "81148              37.858473            -122.253253      825  Subscriber   \n",
       "2356               37.760594            -122.414817     5583  Subscriber   \n",
       "61058              37.775235            -122.397437     6503  Subscriber   \n",
       "66712              37.794231            -122.402923     5173  Subscriber   \n",
       "175683             37.335885            -121.885660     3964  Subscriber   \n",
       "91289              37.772301            -122.393028     5242  Subscriber   \n",
       "162771             37.773717            -122.411647      183  Subscriber   \n",
       "90743              37.778768            -122.415929     6483  Subscriber   \n",
       "\n",
       "        member_birth_year member_gender bike_share_for_all_trip  \n",
       "64376              1983.0          Male                      No  \n",
       "104534             1991.0        Female                      No  \n",
       "127614             1983.0          Male                      No  \n",
       "144477             1999.0          Male                      No  \n",
       "148520             1982.0          Male                      No  \n",
       "77899              1989.0          Male                      No  \n",
       "172728             1995.0          Male                      No  \n",
       "117258             1989.0          Male                      No  \n",
       "85170              1967.0          Male                      No  \n",
       "30086              1992.0          Male                      No  \n",
       "84888              1983.0         Other                      No  \n",
       "104089             1990.0          Male                      No  \n",
       "81148              1998.0          Male                     Yes  \n",
       "2356               1992.0        Female                      No  \n",
       "61058              1998.0          Male                      No  \n",
       "66712              1995.0        Female                      No  \n",
       "175683             1996.0          Male                     Yes  \n",
       "91289              1988.0          Male                      No  \n",
       "162771             1990.0        Female                      No  \n",
       "90743              1962.0          Male                      No  "
      ]
     },
     "execution_count": 8,
     "metadata": {},
     "output_type": "execute_result"
    }
   ],
   "source": [
    "ford_bike.sample(20)"
   ]
  },
  {
   "cell_type": "markdown",
   "id": "03556a25",
   "metadata": {},
   "source": [
    "## What is the structure of your dataset?"
   ]
  },
  {
   "cell_type": "code",
   "execution_count": 9,
   "id": "e786782b",
   "metadata": {},
   "outputs": [
    {
     "data": {
      "text/plain": [
       "(183412, 16)"
      ]
     },
     "execution_count": 9,
     "metadata": {},
     "output_type": "execute_result"
    }
   ],
   "source": [
    "ford_bike.shape"
   ]
  },
  {
   "cell_type": "code",
   "execution_count": 10,
   "id": "e7aaacba",
   "metadata": {},
   "outputs": [
    {
     "name": "stdout",
     "output_type": "stream",
     "text": [
      "<class 'pandas.core.frame.DataFrame'>\n",
      "RangeIndex: 183412 entries, 0 to 183411\n",
      "Data columns (total 16 columns):\n",
      " #   Column                   Non-Null Count   Dtype  \n",
      "---  ------                   --------------   -----  \n",
      " 0   duration_sec             183412 non-null  int64  \n",
      " 1   start_time               183412 non-null  object \n",
      " 2   end_time                 183412 non-null  object \n",
      " 3   start_station_id         183215 non-null  float64\n",
      " 4   start_station_name       183215 non-null  object \n",
      " 5   start_station_latitude   183412 non-null  float64\n",
      " 6   start_station_longitude  183412 non-null  float64\n",
      " 7   end_station_id           183215 non-null  float64\n",
      " 8   end_station_name         183215 non-null  object \n",
      " 9   end_station_latitude     183412 non-null  float64\n",
      " 10  end_station_longitude    183412 non-null  float64\n",
      " 11  bike_id                  183412 non-null  int64  \n",
      " 12  user_type                183412 non-null  object \n",
      " 13  member_birth_year        175147 non-null  float64\n",
      " 14  member_gender            175147 non-null  object \n",
      " 15  bike_share_for_all_trip  183412 non-null  object \n",
      "dtypes: float64(7), int64(2), object(7)\n",
      "memory usage: 22.4+ MB\n"
     ]
    }
   ],
   "source": [
    "ford_bike.info()"
   ]
  },
  {
   "cell_type": "code",
   "execution_count": 11,
   "id": "a53a6c18",
   "metadata": {},
   "outputs": [
    {
     "data": {
      "text/plain": [
       "duration_sec                  0\n",
       "start_time                    0\n",
       "end_time                      0\n",
       "start_station_id            197\n",
       "start_station_name          197\n",
       "start_station_latitude        0\n",
       "start_station_longitude       0\n",
       "end_station_id              197\n",
       "end_station_name            197\n",
       "end_station_latitude          0\n",
       "end_station_longitude         0\n",
       "bike_id                       0\n",
       "user_type                     0\n",
       "member_birth_year          8265\n",
       "member_gender              8265\n",
       "bike_share_for_all_trip       0\n",
       "dtype: int64"
      ]
     },
     "execution_count": 11,
     "metadata": {},
     "output_type": "execute_result"
    }
   ],
   "source": [
    "ford_bike.isnull().sum()"
   ]
  },
  {
   "cell_type": "markdown",
   "id": "26972213",
   "metadata": {},
   "source": [
    "The dataset has the following characteristics\n",
    "- 183412 rows and 12 columns\n",
    "- the duration the bike was rented for in seconds\n",
    "- The bike id for identification\n",
    "- the beginning and end staton ID, \n",
    "- latitude, longitude of the station\n",
    "- the station name\n",
    "- the start and end time of the ride\n",
    "- the year the user was born\n",
    "- the gender of the user\n",
    "- whether the user is a subscriber or not\n",
    "\n",
    "## Main features of interest in the dataset\n",
    "\n",
    "I'm most interested in the age of the riders, their gender,the length of the rides and whether or not they are subscribers. I assume that riders who have subscribed will have longer rides because the fact that they are subscribed indicates their level of interest to some extent.\n",
    "\n",
    "## Cleaning the data\n",
    "\n",
    "**Define**\n",
    "\n",
    "Make a copy of the dataframe\n",
    "\n",
    "**Code**"
   ]
  },
  {
   "cell_type": "code",
   "execution_count": 12,
   "id": "b8a3a29f",
   "metadata": {},
   "outputs": [],
   "source": [
    "#make a copy of the dataframe\n",
    "ford_copy = ford_bike.copy()"
   ]
  },
  {
   "cell_type": "markdown",
   "id": "8742dd03",
   "metadata": {},
   "source": [
    "**Define**\n",
    "\n",
    "Check for duplicate records\n",
    "\n",
    "**Code**"
   ]
  },
  {
   "cell_type": "code",
   "execution_count": 13,
   "id": "5f6e6238",
   "metadata": {},
   "outputs": [
    {
     "name": "stdout",
     "output_type": "stream",
     "text": [
      "There are 0 duplicate records\n"
     ]
    }
   ],
   "source": [
    "#checking for number of duplicate records\n",
    "ford_duplicates = ford_copy.duplicated().sum()\n",
    "print('There are {} duplicate records'.format(ford_duplicates))"
   ]
  },
  {
   "cell_type": "markdown",
   "id": "70f87371",
   "metadata": {},
   "source": [
    "**Define**\n",
    "\n",
    "Check that the columns have the right dataypes\n",
    "\n",
    "**Code**"
   ]
  },
  {
   "cell_type": "code",
   "execution_count": 14,
   "id": "8ce7ed6d",
   "metadata": {
    "scrolled": false
   },
   "outputs": [
    {
     "name": "stdout",
     "output_type": "stream",
     "text": [
      "<class 'pandas.core.frame.DataFrame'>\n",
      "RangeIndex: 183412 entries, 0 to 183411\n",
      "Data columns (total 16 columns):\n",
      " #   Column                   Non-Null Count   Dtype  \n",
      "---  ------                   --------------   -----  \n",
      " 0   duration_sec             183412 non-null  int64  \n",
      " 1   start_time               183412 non-null  object \n",
      " 2   end_time                 183412 non-null  object \n",
      " 3   start_station_id         183215 non-null  float64\n",
      " 4   start_station_name       183215 non-null  object \n",
      " 5   start_station_latitude   183412 non-null  float64\n",
      " 6   start_station_longitude  183412 non-null  float64\n",
      " 7   end_station_id           183215 non-null  float64\n",
      " 8   end_station_name         183215 non-null  object \n",
      " 9   end_station_latitude     183412 non-null  float64\n",
      " 10  end_station_longitude    183412 non-null  float64\n",
      " 11  bike_id                  183412 non-null  int64  \n",
      " 12  user_type                183412 non-null  object \n",
      " 13  member_birth_year        175147 non-null  float64\n",
      " 14  member_gender            175147 non-null  object \n",
      " 15  bike_share_for_all_trip  183412 non-null  object \n",
      "dtypes: float64(7), int64(2), object(7)\n",
      "memory usage: 22.4+ MB\n"
     ]
    }
   ],
   "source": [
    "ford_copy.info()"
   ]
  },
  {
   "cell_type": "markdown",
   "id": "f1032058",
   "metadata": {},
   "source": [
    "**Define**\n",
    "\n",
    "Convert `bike_id` to string as it will not be used in any calculations.\n",
    "\n",
    "**Code**"
   ]
  },
  {
   "cell_type": "code",
   "execution_count": 15,
   "id": "4aaf9f3f",
   "metadata": {},
   "outputs": [],
   "source": [
    "# convert bike_id to string as it is will not be used in any calculations\n",
    "ford_copy['bike_id'] = ford_copy['bike_id'].astype(str)"
   ]
  },
  {
   "cell_type": "markdown",
   "id": "db0568bf",
   "metadata": {},
   "source": [
    "**Test**"
   ]
  },
  {
   "cell_type": "code",
   "execution_count": 16,
   "id": "3ed71ef1",
   "metadata": {},
   "outputs": [
    {
     "data": {
      "text/plain": [
       "dtype('O')"
      ]
     },
     "execution_count": 16,
     "metadata": {},
     "output_type": "execute_result"
    }
   ],
   "source": [
    "ford_copy['bike_id'].dtype"
   ]
  },
  {
   "cell_type": "markdown",
   "id": "99e90cc5",
   "metadata": {},
   "source": [
    "**Define**\n",
    "\n",
    "Remove records without gender or year of birth as this will be vital in analysis.\n",
    "\n",
    "**Code**"
   ]
  },
  {
   "cell_type": "code",
   "execution_count": 17,
   "id": "209244fd",
   "metadata": {},
   "outputs": [],
   "source": [
    "# Remove records without gender or year of birth\n",
    "ford_copy.dropna(subset = ['member_birth_year', 'member_gender'], inplace=True)"
   ]
  },
  {
   "cell_type": "markdown",
   "id": "57bc959b",
   "metadata": {},
   "source": [
    "**Test**\n",
    "\n",
    "member_birth_year and member_gender should have 0 null values"
   ]
  },
  {
   "cell_type": "code",
   "execution_count": 18,
   "id": "3158fbfd",
   "metadata": {},
   "outputs": [
    {
     "data": {
      "text/plain": [
       "duration_sec                 0\n",
       "start_time                   0\n",
       "end_time                     0\n",
       "start_station_id           195\n",
       "start_station_name         195\n",
       "start_station_latitude       0\n",
       "start_station_longitude      0\n",
       "end_station_id             195\n",
       "end_station_name           195\n",
       "end_station_latitude         0\n",
       "end_station_longitude        0\n",
       "bike_id                      0\n",
       "user_type                    0\n",
       "member_birth_year            0\n",
       "member_gender                0\n",
       "bike_share_for_all_trip      0\n",
       "dtype: int64"
      ]
     },
     "execution_count": 18,
     "metadata": {},
     "output_type": "execute_result"
    }
   ],
   "source": [
    "# member_birth_year and member_gender should have 0 null values\n",
    "ford_copy.isnull().sum()"
   ]
  },
  {
   "cell_type": "markdown",
   "id": "39125ccd",
   "metadata": {},
   "source": [
    "**Define**\n",
    "\n",
    "We create a colum for age which will be derived from `member_birth_year` so that we can use it to remove any unreasonable ages or outliers from the data. We will also convert it into an integer type since `member_birth_year` is in float.\n",
    "\n",
    "**Code**"
   ]
  },
  {
   "cell_type": "code",
   "execution_count": 19,
   "id": "d6ee39ff",
   "metadata": {},
   "outputs": [],
   "source": [
    "# create age column\n",
    "ford_copy['age'] = 2022-ford_copy['member_birth_year'].astype(int)"
   ]
  },
  {
   "cell_type": "code",
   "execution_count": 20,
   "id": "2961e0a2",
   "metadata": {},
   "outputs": [
    {
     "name": "stdout",
     "output_type": "stream",
     "text": [
      "The oldest rider is 144 years old\n"
     ]
    }
   ],
   "source": [
    "# check maximum age\n",
    "oldest = ford_copy['age'].max()\n",
    "print('The oldest rider is {} years old'.format(oldest))"
   ]
  },
  {
   "cell_type": "code",
   "execution_count": 21,
   "id": "9b1be3ae",
   "metadata": {},
   "outputs": [
    {
     "name": "stdout",
     "output_type": "stream",
     "text": [
      "The youngest rider is 21 years old\n"
     ]
    }
   ],
   "source": [
    "youngest = ford_copy['age'].min()\n",
    "print('The youngest rider is {} years old'.format(youngest))"
   ]
  },
  {
   "cell_type": "markdown",
   "id": "519bd527",
   "metadata": {},
   "source": [
    "144 years is not exactly reasonable so we will remove records with ages greater than 100 years"
   ]
  },
  {
   "cell_type": "code",
   "execution_count": 22,
   "id": "3e12bb1e",
   "metadata": {},
   "outputs": [
    {
     "data": {
      "text/html": [
       "<div>\n",
       "<style scoped>\n",
       "    .dataframe tbody tr th:only-of-type {\n",
       "        vertical-align: middle;\n",
       "    }\n",
       "\n",
       "    .dataframe tbody tr th {\n",
       "        vertical-align: top;\n",
       "    }\n",
       "\n",
       "    .dataframe thead th {\n",
       "        text-align: right;\n",
       "    }\n",
       "</style>\n",
       "<table border=\"1\" class=\"dataframe\">\n",
       "  <thead>\n",
       "    <tr style=\"text-align: right;\">\n",
       "      <th></th>\n",
       "      <th>user_type</th>\n",
       "      <th>member_gender</th>\n",
       "      <th>age</th>\n",
       "    </tr>\n",
       "  </thead>\n",
       "  <tbody>\n",
       "    <tr>\n",
       "      <th>1285</th>\n",
       "      <td>Subscriber</td>\n",
       "      <td>Male</td>\n",
       "      <td>122</td>\n",
       "    </tr>\n",
       "    <tr>\n",
       "      <th>10827</th>\n",
       "      <td>Subscriber</td>\n",
       "      <td>Male</td>\n",
       "      <td>122</td>\n",
       "    </tr>\n",
       "    <tr>\n",
       "      <th>16087</th>\n",
       "      <td>Subscriber</td>\n",
       "      <td>Male</td>\n",
       "      <td>122</td>\n",
       "    </tr>\n",
       "    <tr>\n",
       "      <th>17981</th>\n",
       "      <td>Subscriber</td>\n",
       "      <td>Male</td>\n",
       "      <td>102</td>\n",
       "    </tr>\n",
       "    <tr>\n",
       "      <th>18885</th>\n",
       "      <td>Subscriber</td>\n",
       "      <td>Male</td>\n",
       "      <td>102</td>\n",
       "    </tr>\n",
       "    <tr>\n",
       "      <th>...</th>\n",
       "      <td>...</td>\n",
       "      <td>...</td>\n",
       "      <td>...</td>\n",
       "    </tr>\n",
       "    <tr>\n",
       "      <th>171996</th>\n",
       "      <td>Subscriber</td>\n",
       "      <td>Male</td>\n",
       "      <td>122</td>\n",
       "    </tr>\n",
       "    <tr>\n",
       "      <th>173711</th>\n",
       "      <td>Subscriber</td>\n",
       "      <td>Male</td>\n",
       "      <td>122</td>\n",
       "    </tr>\n",
       "    <tr>\n",
       "      <th>177708</th>\n",
       "      <td>Subscriber</td>\n",
       "      <td>Male</td>\n",
       "      <td>122</td>\n",
       "    </tr>\n",
       "    <tr>\n",
       "      <th>177885</th>\n",
       "      <td>Subscriber</td>\n",
       "      <td>Female</td>\n",
       "      <td>120</td>\n",
       "    </tr>\n",
       "    <tr>\n",
       "      <th>182830</th>\n",
       "      <td>Subscriber</td>\n",
       "      <td>Male</td>\n",
       "      <td>121</td>\n",
       "    </tr>\n",
       "  </tbody>\n",
       "</table>\n",
       "<p>75 rows × 3 columns</p>\n",
       "</div>"
      ],
      "text/plain": [
       "         user_type member_gender  age\n",
       "1285    Subscriber          Male  122\n",
       "10827   Subscriber          Male  122\n",
       "16087   Subscriber          Male  122\n",
       "17981   Subscriber          Male  102\n",
       "18885   Subscriber          Male  102\n",
       "...            ...           ...  ...\n",
       "171996  Subscriber          Male  122\n",
       "173711  Subscriber          Male  122\n",
       "177708  Subscriber          Male  122\n",
       "177885  Subscriber        Female  120\n",
       "182830  Subscriber          Male  121\n",
       "\n",
       "[75 rows x 3 columns]"
      ]
     },
     "execution_count": 22,
     "metadata": {},
     "output_type": "execute_result"
    }
   ],
   "source": [
    "too_old = ford_copy[ford_copy['age'] > 100]\n",
    "too_old[['user_type', 'member_gender', 'age']]"
   ]
  },
  {
   "cell_type": "code",
   "execution_count": 23,
   "id": "7b5f134b",
   "metadata": {},
   "outputs": [],
   "source": [
    "# drop the rows\n",
    "ford_copy = ford_copy.drop(too_old.index, axis=0)"
   ]
  },
  {
   "cell_type": "markdown",
   "id": "26fcb253",
   "metadata": {},
   "source": [
    "**Test**"
   ]
  },
  {
   "cell_type": "code",
   "execution_count": 24,
   "id": "9ca83192",
   "metadata": {},
   "outputs": [
    {
     "data": {
      "text/plain": [
       "(175072, 17)"
      ]
     },
     "execution_count": 24,
     "metadata": {},
     "output_type": "execute_result"
    }
   ],
   "source": [
    "ford_copy.shape"
   ]
  },
  {
   "cell_type": "markdown",
   "id": "626368e7",
   "metadata": {},
   "source": [
    "**Define**\n",
    "\n",
    "Change datatypes of some of the columns to datetime and add a minutes and hours column from `duration_sec` column. That way it will be easier to consume the data at a glance. We will also create a column that stores the duration in hours.\n",
    "\n",
    "- Convert `start_time` and `end_time` to datetime\n",
    "- Create a column `duration_minutes'\n",
    "- Create a column `duration_hours` by dividing `duration_minutes` by 60\n",
    "- Change `user_type` and `member_gender` to categories\n",
    "\n",
    "**Code**"
   ]
  },
  {
   "cell_type": "code",
   "execution_count": 25,
   "id": "48680cf6",
   "metadata": {},
   "outputs": [],
   "source": [
    "# change to datetime\n",
    "ford_copy['start_time'] = pd.to_datetime(ford_copy['start_time'])\n",
    "ford_copy['end_time'] = pd.to_datetime(ford_copy['end_time'])\n",
    "ford_copy = ford_copy.sort_values(by='start_time')"
   ]
  },
  {
   "cell_type": "code",
   "execution_count": 26,
   "id": "1fe5b41a",
   "metadata": {},
   "outputs": [],
   "source": [
    "# create column duration_minutes\n",
    "ford_copy['duration_minutes'] = ford_copy['duration_sec']/60"
   ]
  },
  {
   "cell_type": "code",
   "execution_count": 27,
   "id": "19d72e09",
   "metadata": {},
   "outputs": [],
   "source": [
    "# create column duration_hour\n",
    "ford_copy['duration_hours'] = ford_copy['duration_minutes']/60"
   ]
  },
  {
   "cell_type": "code",
   "execution_count": 28,
   "id": "3fece434",
   "metadata": {},
   "outputs": [],
   "source": [
    "# change user_type to category\n",
    "ford_copy.user_type = ford_copy.user_type.astype('category')\n",
    "# change member_gender to category\n",
    "ford_copy.member_gender = ford_copy.member_gender.astype('category')"
   ]
  },
  {
   "cell_type": "markdown",
   "id": "24fbc747",
   "metadata": {},
   "source": [
    "**Test**"
   ]
  },
  {
   "cell_type": "code",
   "execution_count": 29,
   "id": "c8fc7290",
   "metadata": {},
   "outputs": [
    {
     "data": {
      "text/html": [
       "<div>\n",
       "<style scoped>\n",
       "    .dataframe tbody tr th:only-of-type {\n",
       "        vertical-align: middle;\n",
       "    }\n",
       "\n",
       "    .dataframe tbody tr th {\n",
       "        vertical-align: top;\n",
       "    }\n",
       "\n",
       "    .dataframe thead th {\n",
       "        text-align: right;\n",
       "    }\n",
       "</style>\n",
       "<table border=\"1\" class=\"dataframe\">\n",
       "  <thead>\n",
       "    <tr style=\"text-align: right;\">\n",
       "      <th></th>\n",
       "      <th>start_time</th>\n",
       "      <th>end_time</th>\n",
       "      <th>duration_sec</th>\n",
       "      <th>duration_minutes</th>\n",
       "      <th>duration_hours</th>\n",
       "    </tr>\n",
       "  </thead>\n",
       "  <tbody>\n",
       "    <tr>\n",
       "      <th>26669</th>\n",
       "      <td>2019-02-25 11:39:13.894</td>\n",
       "      <td>2019-02-25 11:45:16.744</td>\n",
       "      <td>362</td>\n",
       "      <td>6.033333</td>\n",
       "      <td>0.100556</td>\n",
       "    </tr>\n",
       "    <tr>\n",
       "      <th>55518</th>\n",
       "      <td>2019-02-21 09:47:28.567</td>\n",
       "      <td>2019-02-21 10:07:51.063</td>\n",
       "      <td>1222</td>\n",
       "      <td>20.366667</td>\n",
       "      <td>0.339444</td>\n",
       "    </tr>\n",
       "    <tr>\n",
       "      <th>54786</th>\n",
       "      <td>2019-02-21 11:31:54.860</td>\n",
       "      <td>2019-02-21 12:04:21.368</td>\n",
       "      <td>1946</td>\n",
       "      <td>32.433333</td>\n",
       "      <td>0.540556</td>\n",
       "    </tr>\n",
       "    <tr>\n",
       "      <th>71158</th>\n",
       "      <td>2019-02-19 17:41:36.653</td>\n",
       "      <td>2019-02-19 17:50:40.084</td>\n",
       "      <td>543</td>\n",
       "      <td>9.050000</td>\n",
       "      <td>0.150833</td>\n",
       "    </tr>\n",
       "    <tr>\n",
       "      <th>77453</th>\n",
       "      <td>2019-02-19 07:03:11.721</td>\n",
       "      <td>2019-02-19 07:08:44.388</td>\n",
       "      <td>332</td>\n",
       "      <td>5.533333</td>\n",
       "      <td>0.092222</td>\n",
       "    </tr>\n",
       "  </tbody>\n",
       "</table>\n",
       "</div>"
      ],
      "text/plain": [
       "                   start_time                end_time  duration_sec  \\\n",
       "26669 2019-02-25 11:39:13.894 2019-02-25 11:45:16.744           362   \n",
       "55518 2019-02-21 09:47:28.567 2019-02-21 10:07:51.063          1222   \n",
       "54786 2019-02-21 11:31:54.860 2019-02-21 12:04:21.368          1946   \n",
       "71158 2019-02-19 17:41:36.653 2019-02-19 17:50:40.084           543   \n",
       "77453 2019-02-19 07:03:11.721 2019-02-19 07:08:44.388           332   \n",
       "\n",
       "       duration_minutes  duration_hours  \n",
       "26669          6.033333        0.100556  \n",
       "55518         20.366667        0.339444  \n",
       "54786         32.433333        0.540556  \n",
       "71158          9.050000        0.150833  \n",
       "77453          5.533333        0.092222  "
      ]
     },
     "execution_count": 29,
     "metadata": {},
     "output_type": "execute_result"
    }
   ],
   "source": [
    "ford_copy[['start_time', 'end_time', 'duration_sec', 'duration_minutes', 'duration_hours']].sample(5)"
   ]
  },
  {
   "cell_type": "markdown",
   "id": "d5d64294",
   "metadata": {},
   "source": [
    "**Define**\n",
    "\n",
    "We notice that for the `start_time` and `end_time` columns, the time is together with the dates. So we will extract the date(month and day) from `start_time`. The year is 2019.\n",
    "\n",
    "**Code**"
   ]
  },
  {
   "cell_type": "code",
   "execution_count": 30,
   "id": "6d73885b",
   "metadata": {},
   "outputs": [],
   "source": [
    "# extract month\n",
    "ford_copy['start_time_month'] = ford_copy['start_time'].dt.strftime('%B')"
   ]
  },
  {
   "cell_type": "code",
   "execution_count": 31,
   "id": "610dca72",
   "metadata": {},
   "outputs": [],
   "source": [
    "# extract day\n",
    "ford_copy['start_time_day'] = ford_copy['start_time'].dt.strftime('%a')"
   ]
  },
  {
   "cell_type": "code",
   "execution_count": 32,
   "id": "38fab323",
   "metadata": {},
   "outputs": [],
   "source": [
    "# change both to category datatype\n",
    "ford_copy.start_time_month = ford_copy.start_time_month.astype('category')\n",
    "ford_copy.start_time_day = ford_copy.start_time_day.astype('category')"
   ]
  },
  {
   "cell_type": "markdown",
   "id": "a88fc757",
   "metadata": {},
   "source": [
    "**Test**"
   ]
  },
  {
   "cell_type": "code",
   "execution_count": 33,
   "id": "a0bff0c0",
   "metadata": {},
   "outputs": [
    {
     "name": "stdout",
     "output_type": "stream",
     "text": [
      "<class 'pandas.core.frame.DataFrame'>\n",
      "Int64Index: 175072 entries, 183411 to 15\n",
      "Data columns (total 21 columns):\n",
      " #   Column                   Non-Null Count   Dtype         \n",
      "---  ------                   --------------   -----         \n",
      " 0   duration_sec             175072 non-null  int64         \n",
      " 1   start_time               175072 non-null  datetime64[ns]\n",
      " 2   end_time                 175072 non-null  datetime64[ns]\n",
      " 3   start_station_id         174877 non-null  float64       \n",
      " 4   start_station_name       174877 non-null  object        \n",
      " 5   start_station_latitude   175072 non-null  float64       \n",
      " 6   start_station_longitude  175072 non-null  float64       \n",
      " 7   end_station_id           174877 non-null  float64       \n",
      " 8   end_station_name         174877 non-null  object        \n",
      " 9   end_station_latitude     175072 non-null  float64       \n",
      " 10  end_station_longitude    175072 non-null  float64       \n",
      " 11  bike_id                  175072 non-null  object        \n",
      " 12  user_type                175072 non-null  category      \n",
      " 13  member_birth_year        175072 non-null  float64       \n",
      " 14  member_gender            175072 non-null  category      \n",
      " 15  bike_share_for_all_trip  175072 non-null  object        \n",
      " 16  age                      175072 non-null  int32         \n",
      " 17  duration_minutes         175072 non-null  float64       \n",
      " 18  duration_hours           175072 non-null  float64       \n",
      " 19  start_time_month         175072 non-null  category      \n",
      " 20  start_time_day           175072 non-null  category      \n",
      "dtypes: category(4), datetime64[ns](2), float64(9), int32(1), int64(1), object(4)\n",
      "memory usage: 24.0+ MB\n"
     ]
    }
   ],
   "source": [
    "ford_copy.info()"
   ]
  },
  {
   "cell_type": "code",
   "execution_count": 34,
   "id": "2b0285a7",
   "metadata": {},
   "outputs": [
    {
     "data": {
      "text/html": [
       "<div>\n",
       "<style scoped>\n",
       "    .dataframe tbody tr th:only-of-type {\n",
       "        vertical-align: middle;\n",
       "    }\n",
       "\n",
       "    .dataframe tbody tr th {\n",
       "        vertical-align: top;\n",
       "    }\n",
       "\n",
       "    .dataframe thead th {\n",
       "        text-align: right;\n",
       "    }\n",
       "</style>\n",
       "<table border=\"1\" class=\"dataframe\">\n",
       "  <thead>\n",
       "    <tr style=\"text-align: right;\">\n",
       "      <th></th>\n",
       "      <th>start_time</th>\n",
       "      <th>start_time_month</th>\n",
       "      <th>start_time_day</th>\n",
       "    </tr>\n",
       "  </thead>\n",
       "  <tbody>\n",
       "    <tr>\n",
       "      <th>139644</th>\n",
       "      <td>2019-02-07 20:38:36.251</td>\n",
       "      <td>February</td>\n",
       "      <td>Thu</td>\n",
       "    </tr>\n",
       "    <tr>\n",
       "      <th>19663</th>\n",
       "      <td>2019-02-26 16:11:33.255</td>\n",
       "      <td>February</td>\n",
       "      <td>Tue</td>\n",
       "    </tr>\n",
       "    <tr>\n",
       "      <th>9485</th>\n",
       "      <td>2019-02-28 07:02:42.732</td>\n",
       "      <td>February</td>\n",
       "      <td>Thu</td>\n",
       "    </tr>\n",
       "    <tr>\n",
       "      <th>178979</th>\n",
       "      <td>2019-02-01 15:55:11.241</td>\n",
       "      <td>February</td>\n",
       "      <td>Fri</td>\n",
       "    </tr>\n",
       "    <tr>\n",
       "      <th>170222</th>\n",
       "      <td>2019-02-04 08:17:16.564</td>\n",
       "      <td>February</td>\n",
       "      <td>Mon</td>\n",
       "    </tr>\n",
       "  </tbody>\n",
       "</table>\n",
       "</div>"
      ],
      "text/plain": [
       "                    start_time start_time_month start_time_day\n",
       "139644 2019-02-07 20:38:36.251         February            Thu\n",
       "19663  2019-02-26 16:11:33.255         February            Tue\n",
       "9485   2019-02-28 07:02:42.732         February            Thu\n",
       "178979 2019-02-01 15:55:11.241         February            Fri\n",
       "170222 2019-02-04 08:17:16.564         February            Mon"
      ]
     },
     "execution_count": 34,
     "metadata": {},
     "output_type": "execute_result"
    }
   ],
   "source": [
    "ford_copy[['start_time', 'start_time_month', 'start_time_day']].sample(5)"
   ]
  },
  {
   "cell_type": "markdown",
   "id": "a334fa31",
   "metadata": {},
   "source": [
    "**Define**\n",
    "\n",
    "We'd like to know the distance covered by the riders in kilometers so we create a column `distance_km` based on the longitude and latitude start and end points\n",
    "\n",
    "**Code**"
   ]
  },
  {
   "cell_type": "code",
   "execution_count": 35,
   "id": "3071f069",
   "metadata": {},
   "outputs": [],
   "source": [
    "import math\n",
    "def distance(origin, destination):\n",
    "    lat1, long1 = origin\n",
    "    lat2, long2 = destination\n",
    "    radius = 6371 #km\n",
    "    dlat = math.radians(lat2-lat1)\n",
    "    dlong = math.radians(long2-long1)\n",
    "    a = math.sin(dlat/2) * math.sin(dlat/2) + math.cos(math.radians(lat1)) \\\n",
    "* math.cos(math.radians(lat2)) * math.sin(dlong/2) * math.sin(dlong/2)\n",
    "    c = 2 * math.atan2(math.sqrt(a), math.sqrt(1-a))\n",
    "    d = radius * c\n",
    "    return d"
   ]
  },
  {
   "cell_type": "code",
   "execution_count": 36,
   "id": "e390b55d",
   "metadata": {},
   "outputs": [],
   "source": [
    "ford_copy['distance_km'] = ford_copy.apply(lambda i: distance([i['start_station_longitude'],i['start_station_latitude']],\n",
    "                            [i['end_station_longitude'],i['end_station_latitude']]), axis=1)"
   ]
  },
  {
   "cell_type": "code",
   "execution_count": 37,
   "id": "e83e7d40",
   "metadata": {},
   "outputs": [
    {
     "data": {
      "text/html": [
       "<div>\n",
       "<style scoped>\n",
       "    .dataframe tbody tr th:only-of-type {\n",
       "        vertical-align: middle;\n",
       "    }\n",
       "\n",
       "    .dataframe tbody tr th {\n",
       "        vertical-align: top;\n",
       "    }\n",
       "\n",
       "    .dataframe thead th {\n",
       "        text-align: right;\n",
       "    }\n",
       "</style>\n",
       "<table border=\"1\" class=\"dataframe\">\n",
       "  <thead>\n",
       "    <tr style=\"text-align: right;\">\n",
       "      <th></th>\n",
       "      <th>bike_id</th>\n",
       "      <th>age</th>\n",
       "      <th>distance_km</th>\n",
       "    </tr>\n",
       "  </thead>\n",
       "  <tbody>\n",
       "    <tr>\n",
       "      <th>26104</th>\n",
       "      <td>5827</td>\n",
       "      <td>48</td>\n",
       "      <td>0.935871</td>\n",
       "    </tr>\n",
       "    <tr>\n",
       "      <th>61524</th>\n",
       "      <td>5609</td>\n",
       "      <td>34</td>\n",
       "      <td>1.189309</td>\n",
       "    </tr>\n",
       "    <tr>\n",
       "      <th>45059</th>\n",
       "      <td>5814</td>\n",
       "      <td>50</td>\n",
       "      <td>1.133824</td>\n",
       "    </tr>\n",
       "    <tr>\n",
       "      <th>154831</th>\n",
       "      <td>5217</td>\n",
       "      <td>40</td>\n",
       "      <td>1.418297</td>\n",
       "    </tr>\n",
       "    <tr>\n",
       "      <th>182260</th>\n",
       "      <td>1533</td>\n",
       "      <td>30</td>\n",
       "      <td>0.358300</td>\n",
       "    </tr>\n",
       "  </tbody>\n",
       "</table>\n",
       "</div>"
      ],
      "text/plain": [
       "       bike_id  age  distance_km\n",
       "26104     5827   48     0.935871\n",
       "61524     5609   34     1.189309\n",
       "45059     5814   50     1.133824\n",
       "154831    5217   40     1.418297\n",
       "182260    1533   30     0.358300"
      ]
     },
     "execution_count": 37,
     "metadata": {},
     "output_type": "execute_result"
    }
   ],
   "source": [
    "ford_copy[['bike_id', 'age', 'distance_km']].sample(5)"
   ]
  },
  {
   "cell_type": "markdown",
   "id": "4b01f59c",
   "metadata": {},
   "source": [
    "## Univariate Exploration\n",
    "\n",
    "**What is the distribution of users?**"
   ]
  },
  {
   "cell_type": "code",
   "execution_count": 38,
   "id": "2bdc86cf",
   "metadata": {},
   "outputs": [
    {
     "data": {
      "image/png": "[encoded data removed]",
      "text/plain": [
       "<Figure size 432x288 with 1 Axes>"
      ]
     },
     "metadata": {},
     "output_type": "display_data"
    }
   ],
   "source": [
    "user_counts = ford_copy['user_type'].value_counts()\n",
    "plt.pie(user_counts, labels = user_counts.index, autopct='%1.0f%%', startangle=90, counterclock = False)\n",
    "plt.title(\"Subscription Types of FordGoBike Users\", fontsize=20, y=1.07)\n",
    "plt.axis('square');"
   ]
  },
  {
   "cell_type": "markdown",
   "id": "46cdfa27",
   "metadata": {},
   "source": [
    "There are more subscribers than customers which means that the service is very popular in the San Francisco area\n",
    "\n",
    "**What is the age distribution of FordGoBike users?**\n",
    "\n",
    "We will use a boxplot to find out what age of users dominates the service as well as the average age of the users."
   ]
  },
  {
   "cell_type": "code",
   "execution_count": 39,
   "id": "c3c7d319",
   "metadata": {},
   "outputs": [
    {
     "data": {
      "image/png": "[encoded data removed]",
      "text/plain": [
       "<Figure size 1008x432 with 1 Axes>"
      ]
     },
     "metadata": {
      "needs_background": "light"
     },
     "output_type": "display_data"
    }
   ],
   "source": [
    "plt.figure(figsize=(14,6))\n",
    "sns.boxplot(x='age', data=ford_copy)\n",
    "plt.title(\"The Age Distribution of FordGoBike Users\", fontsize=20, y=1.07)\n",
    "plt.xlabel(\"Age\", fontsize=18, labelpad=10);"
   ]
  },
  {
   "cell_type": "code",
   "execution_count": 40,
   "id": "6ab31061",
   "metadata": {},
   "outputs": [
    {
     "name": "stdout",
     "output_type": "stream",
     "text": [
      "The average age of FordGoBike users is 37.157666560043864 years old\n"
     ]
    }
   ],
   "source": [
    "avg_age = ford_copy.age.mean()\n",
    "print('The average age of FordGoBike users is {} years old'.format(avg_age))"
   ]
  },
  {
   "cell_type": "code",
   "execution_count": 41,
   "id": "77f225e2",
   "metadata": {},
   "outputs": [
    {
     "data": {
      "text/plain": [
       "count    175072.000000\n",
       "mean         37.157667\n",
       "std           9.968551\n",
       "min          21.000000\n",
       "25%          30.000000\n",
       "50%          35.000000\n",
       "75%          42.000000\n",
       "max          95.000000\n",
       "Name: age, dtype: float64"
      ]
     },
     "execution_count": 41,
     "metadata": {},
     "output_type": "execute_result"
    }
   ],
   "source": [
    "ford_copy['age'].describe()"
   ]
  },
  {
   "cell_type": "markdown",
   "id": "eecbcfd8",
   "metadata": {},
   "source": [
    "<span style='color:black' >After cleaning the data, it is observed that most users are between 30 and 40 years old and there are very few users who above 60 years old. The youngest user is 21 years old while the oldest user is 95 years old.</span>\n",
    "\n",
    "**What is the gender distribution of the users?**"
   ]
  },
  {
   "cell_type": "code",
   "execution_count": 42,
   "id": "bec35793",
   "metadata": {},
   "outputs": [
    {
     "data": {
      "image/png": "[encoded data removed]",
      "text/plain": [
       "<Figure size 432x288 with 1 Axes>"
      ]
     },
     "metadata": {},
     "output_type": "display_data"
    }
   ],
   "source": [
    "user_counts = ford_copy['member_gender'].value_counts()\n",
    "plt.pie(user_counts, labels = user_counts.index, autopct='%1.0f%%', startangle=90, counterclock = False)\n",
    "plt.title(\"Gender Distribution of FordGoBike Users\", fontsize=20, y=1.07)\n",
    "plt.axis('square');"
   ]
  },
  {
   "cell_type": "markdown",
   "id": "dd58dcfc",
   "metadata": {},
   "source": [
    "There are more male riders than female riders. Male riders constitute of 75% of all FordGoBike users while female riders constitute of only 23%\n",
    "\n",
    "**Which day has the most rides?**"
   ]
  },
  {
   "cell_type": "code",
   "execution_count": 43,
   "id": "ca36facd",
   "metadata": {},
   "outputs": [
    {
     "data": {
      "image/png": "[encoded data removed]",
      "text/plain": [
       "<Figure size 432x288 with 1 Axes>"
      ]
     },
     "metadata": {
      "needs_background": "light"
     },
     "output_type": "display_data"
    }
   ],
   "source": [
    "base_color = sns.color_palette()[0]\n",
    "\n",
    "category_order = ['Sun', 'Mon', 'Tue', 'Wed', 'Thu', 'Fri', 'Sat']\n",
    "sns.countplot(data=ford_copy, x='start_time_day', order=category_order, color=base_color)\n",
    "plt.title('Number of Rides each day', fontsize=15)\n",
    "plt.xlabel('Day')\n",
    "plt.ylabel('Number of Rides')\n",
    "plt.xticks(rotation = 90);"
   ]
  },
  {
   "cell_type": "markdown",
   "id": "f51af7ca",
   "metadata": {},
   "source": [
    "The day with the most rides is Thursday followed closely by Tuesday, Wednesday and Friday. The days with the lowest rides are Sunday and Saturday.\n",
    "\n",
    "**Which hour of the day does most users prefer to start their rides?**\n",
    "\n",
    "We start by extracting the hour from `start_time` to help us find what hour of the day most users prefer to start their rides."
   ]
  },
  {
   "cell_type": "code",
   "execution_count": 44,
   "id": "7d2e758b",
   "metadata": {},
   "outputs": [],
   "source": [
    "# Extract hour from the start_time\n",
    "ford_copy['start_hour'] = ford_copy['start_time'].dt.hour"
   ]
  },
  {
   "cell_type": "code",
   "execution_count": 45,
   "id": "be32d3a9",
   "metadata": {},
   "outputs": [
    {
     "data": {
      "text/html": [
       "<div>\n",
       "<style scoped>\n",
       "    .dataframe tbody tr th:only-of-type {\n",
       "        vertical-align: middle;\n",
       "    }\n",
       "\n",
       "    .dataframe tbody tr th {\n",
       "        vertical-align: top;\n",
       "    }\n",
       "\n",
       "    .dataframe thead th {\n",
       "        text-align: right;\n",
       "    }\n",
       "</style>\n",
       "<table border=\"1\" class=\"dataframe\">\n",
       "  <thead>\n",
       "    <tr style=\"text-align: right;\">\n",
       "      <th></th>\n",
       "      <th>start_time</th>\n",
       "      <th>start_hour</th>\n",
       "    </tr>\n",
       "  </thead>\n",
       "  <tbody>\n",
       "    <tr>\n",
       "      <th>168766</th>\n",
       "      <td>2019-02-04 13:40:12.115</td>\n",
       "      <td>13</td>\n",
       "    </tr>\n",
       "    <tr>\n",
       "      <th>159102</th>\n",
       "      <td>2019-02-05 18:21:01.443</td>\n",
       "      <td>18</td>\n",
       "    </tr>\n",
       "    <tr>\n",
       "      <th>1779</th>\n",
       "      <td>2019-02-28 18:47:33.167</td>\n",
       "      <td>18</td>\n",
       "    </tr>\n",
       "    <tr>\n",
       "      <th>148435</th>\n",
       "      <td>2019-02-06 21:39:28.694</td>\n",
       "      <td>21</td>\n",
       "    </tr>\n",
       "    <tr>\n",
       "      <th>77551</th>\n",
       "      <td>2019-02-19 06:39:01.590</td>\n",
       "      <td>6</td>\n",
       "    </tr>\n",
       "  </tbody>\n",
       "</table>\n",
       "</div>"
      ],
      "text/plain": [
       "                    start_time  start_hour\n",
       "168766 2019-02-04 13:40:12.115          13\n",
       "159102 2019-02-05 18:21:01.443          18\n",
       "1779   2019-02-28 18:47:33.167          18\n",
       "148435 2019-02-06 21:39:28.694          21\n",
       "77551  2019-02-19 06:39:01.590           6"
      ]
     },
     "execution_count": 45,
     "metadata": {},
     "output_type": "execute_result"
    }
   ],
   "source": [
    "ford_copy[['start_time', 'start_hour']].sample(5)"
   ]
  },
  {
   "cell_type": "code",
   "execution_count": 46,
   "id": "cf88ec0c",
   "metadata": {},
   "outputs": [
    {
     "data": {
      "image/png": "[encoded data removed]",
      "text/plain": [
       "<Figure size 432x288 with 1 Axes>"
      ]
     },
     "metadata": {
      "needs_background": "light"
     },
     "output_type": "display_data"
    }
   ],
   "source": [
    "base_color = sns.color_palette()[0]\n",
    "\n",
    "hour_order = [0, 1, 2, 3, 4, 5, 6, 7, 8, 9, 10, 11, 12, 13, 14, 15, 16, 17, 18, 19, 20, 21, 22, 23]\n",
    "sns.countplot(data=ford_copy, x='start_hour', order=hour_order, color=base_color)\n",
    "plt.title('Number of Rides started each hour', fontsize=15)\n",
    "plt.xlabel('Hour')\n",
    "plt.ylabel('Number of Rides')\n",
    "plt.xticks(rotation = 90);"
   ]
  },
  {
   "cell_type": "markdown",
   "id": "4cde7a8a",
   "metadata": {},
   "source": [
    "From the chart above, most users prefer to start their rides at 0800h and 1700h followed by 1800h and 0900h.\n",
    "\n",
    "**What is the distance travelled?**"
   ]
  },
  {
   "cell_type": "code",
   "execution_count": 47,
   "id": "2bf6e6d6",
   "metadata": {},
   "outputs": [
    {
     "data": {
      "image/png": "[encoded data removed]",
      "text/plain": [
       "<Figure size 432x288 with 1 Axes>"
      ]
     },
     "metadata": {
      "needs_background": "light"
     },
     "output_type": "display_data"
    }
   ],
   "source": [
    "bin_edges = np.arange(0, 6, 0.3)\n",
    "plt.hist(data = ford_copy, x = 'distance_km', bins = bin_edges)\n",
    "plt.title(\"Distance Traveled in km\", y = 1.06, fontsize = 15)\n",
    "plt.xlabel('Distance in KM')\n",
    "plt.ylabel('Number of Bike Rides');"
   ]
  },
  {
   "cell_type": "code",
   "execution_count": 48,
   "id": "f4b9cf65",
   "metadata": {},
   "outputs": [
    {
     "name": "stdout",
     "output_type": "stream",
     "text": [
      "The average distance is 1.4784869600080301 kilometers\n"
     ]
    }
   ],
   "source": [
    "avg_dist = ford_copy['distance_km'].mean()\n",
    "print('The average distance is {} kilometers'.format(avg_dist))"
   ]
  },
  {
   "cell_type": "code",
   "execution_count": 49,
   "id": "c5b85e2c",
   "metadata": {},
   "outputs": [
    {
     "data": {
      "text/plain": [
       "count    175072.000000\n",
       "mean          1.478487\n",
       "std           1.038283\n",
       "min           0.000000\n",
       "25%           0.770858\n",
       "50%           1.197651\n",
       "75%           1.938951\n",
       "max          63.800190\n",
       "Name: distance_km, dtype: float64"
      ]
     },
     "execution_count": 49,
     "metadata": {},
     "output_type": "execute_result"
    }
   ],
   "source": [
    "ford_copy['distance_km'].describe()"
   ]
  },
  {
   "cell_type": "markdown",
   "id": "10989f97",
   "metadata": {},
   "source": [
    "The longest distance covered is 63 kilometers and the avarage distance covered by the riders is around 1.4 kilometers.\n",
    "\n",
    "**How long do the rides last?**"
   ]
  },
  {
   "cell_type": "code",
   "execution_count": 50,
   "id": "aec36a40",
   "metadata": {},
   "outputs": [
    {
     "data": {
      "text/plain": [
       "count    175072.000000\n",
       "mean         11.737253\n",
       "std          27.365527\n",
       "min           1.016667\n",
       "25%           5.383333\n",
       "50%           8.500000\n",
       "75%          13.150000\n",
       "max        1409.133333\n",
       "Name: duration_minutes, dtype: float64"
      ]
     },
     "execution_count": 50,
     "metadata": {},
     "output_type": "execute_result"
    }
   ],
   "source": [
    "ford_copy['duration_minutes'].describe()"
   ]
  },
  {
   "cell_type": "code",
   "execution_count": 51,
   "id": "ecdfafbc",
   "metadata": {},
   "outputs": [
    {
     "data": {
      "image/png": "[encoded data removed]",
      "text/plain": [
       "<Figure size 432x288 with 1 Axes>"
      ]
     },
     "metadata": {
      "needs_background": "light"
     },
     "output_type": "display_data"
    }
   ],
   "source": [
    "bin_edges = np.arange(0, 100, 5)\n",
    "\n",
    "plt.hist(data = ford_copy, x = 'duration_minutes', bins = bin_edges)\n",
    "\n",
    "plt.title(\"Trip Duration in Minutes\", y=1.03, fontsize=14, fontweight='semibold')\n",
    "plt.xlabel('Duration in minutes')\n",
    "plt.ylabel('Number of rides');"
   ]
  },
  {
   "cell_type": "markdown",
   "id": "bca0eaa7",
   "metadata": {},
   "source": [
    "Most rides last an average of 11 minutes and most people don't go beyond 13 minutes.The longest ride is 1409 minutes which is about 23 hours\n",
    "\n",
    "## Bivariate Exploration\n",
    "\n",
    "**What is the daily usage of each of the user types?**\n",
    "\n",
    "For this, we look at how subscribers use the service and how non subscribers use the service as well."
   ]
  },
  {
   "cell_type": "code",
   "execution_count": 52,
   "id": "70bdd8e1",
   "metadata": {},
   "outputs": [
    {
     "data": {
      "image/png": "[encoded data removed]",
      "text/plain": [
       "<Figure size 720x360 with 2 Axes>"
      ]
     },
     "metadata": {
      "needs_background": "light"
     },
     "output_type": "display_data"
    }
   ],
   "source": [
    "cat_order = ['Mon', 'Tue', 'Wed', 'Thu', 'Fri', 'Sat', 'Sun']\n",
    "k = sns.catplot(data=ford_copy, x='start_time_day', col=\"user_type\", kind='count', sharey = False, order = cat_order, color = base_color)\n",
    "k.set_axis_labels(\"Day\", \"Number of Bike Trips\")\n",
    "k.set_titles(\"{col_name}\")\n",
    "k.fig.suptitle('Daily Usage of the Bikeshare System per User Type', y=1.03, fontsize=14, fontweight='semibold');"
   ]
  },
  {
   "cell_type": "markdown",
   "id": "54140038",
   "metadata": {},
   "source": [
    "**Which hour of the day does each user type prefer to start their rides?**"
   ]
  },
  {
   "cell_type": "code",
   "execution_count": 53,
   "id": "2f23bfcb",
   "metadata": {},
   "outputs": [
    {
     "data": {
      "image/png": "[encoded data removed]",
      "text/plain": [
       "<Figure size 720x360 with 2 Axes>"
      ]
     },
     "metadata": {
      "needs_background": "light"
     },
     "output_type": "display_data"
    }
   ],
   "source": [
    "hour_order = [0, 1, 2, 3, 4, 5, 6, 7, 8, 9, 10, 11, 12, 13, 14, 15, 16, 17, 18, 19, 20, 21, 22, 23]\n",
    "m = sns.catplot(data=ford_copy, x='start_hour', col=\"user_type\", kind='count', order=hour_order, sharex = True, sharey = False,\n",
    "            color = base_color)\n",
    "m.set_axis_labels(\"Hour\", \"Number of Bike Trips\")\n",
    "m.set_titles(\"{col_name}\")\n",
    "m.fig.suptitle('Hourly usage of the Bikeshare System per User Type', y=1.03, fontsize=14, fontweight='semibold')\n",
    "m.set_xticklabels(rotation=90);"
   ]
  },
  {
   "cell_type": "markdown",
   "id": "d579fee1",
   "metadata": {},
   "source": [
    "The analysis above indicates that customers use the service mostly on Thursday, Friday, Sunday, Monday and Tuesday. Subscribers however use the service mostly on weekdays and occasionally on the weekends, that is, Saturday and Sunday.\n",
    "\n",
    "**What is the distance covered by each user type?**"
   ]
  },
  {
   "cell_type": "code",
   "execution_count": 54,
   "id": "0930cb37",
   "metadata": {},
   "outputs": [
    {
     "data": {
      "image/png": "[encoded data removed]",
      "text/plain": [
       "<Figure size 936x576 with 1 Axes>"
      ]
     },
     "metadata": {
      "needs_background": "light"
     },
     "output_type": "display_data"
    }
   ],
   "source": [
    "ke = ford_copy.groupby('user_type')['distance_km'].mean().plot(kind='barh', figsize=(13,8))\n",
    "ke.set_title('Average Trip Distance per User Group', fontsize=22, y=1.015)\n",
    "ke.set_ylabel('User Type', labelpad=8)\n",
    "ke.set_xlabel('Distance in KM', labelpad=10);"
   ]
  },
  {
   "cell_type": "code",
   "execution_count": 55,
   "id": "a9ff85a0",
   "metadata": {},
   "outputs": [
    {
     "data": {
      "text/plain": [
       "user_type\n",
       "Customer      1.669680\n",
       "Subscriber    1.458425\n",
       "Name: distance_km, dtype: float64"
      ]
     },
     "execution_count": 55,
     "metadata": {},
     "output_type": "execute_result"
    }
   ],
   "source": [
    "ford_copy.groupby(by='user_type')['distance_km'].mean()"
   ]
  },
  {
   "cell_type": "markdown",
   "id": "b202cde7",
   "metadata": {},
   "source": [
    "The bar chart demonstrates that on average, customers take longer rides than subscribers. The mean for customers is 1.67 km, and the mean for subscribers is 1.46 km.\n",
    "\n",
    "**What is the relationship between age of the users and the distance covered?**"
   ]
  },
  {
   "cell_type": "code",
   "execution_count": 56,
   "id": "b74f2742",
   "metadata": {},
   "outputs": [
    {
     "data": {
      "image/png": "[encoded data removed]",
      "text/plain": [
       "<Figure size 1080x648 with 1 Axes>"
      ]
     },
     "metadata": {
      "needs_background": "light"
     },
     "output_type": "display_data"
    }
   ],
   "source": [
    "plt.figure(figsize=(15,9))\n",
    "sns.pointplot(data=ford_copy, x='age', y='distance_km', scale=.7, color='orange')\n",
    "plt.title('User Age vs Distance Covered', fontsize=22, y=1.015)\n",
    "plt.xlabel('Age in Years', labelpad=16)\n",
    "plt.ylabel('Distance in km', labelpad=16)\n",
    "plt.xticks(rotation = 90);"
   ]
  },
  {
   "cell_type": "markdown",
   "id": "f417fbc5",
   "metadata": {},
   "source": [
    "The line graph shows that the longest and shortest rides fluctuate between the older users who are above 70 years of age."
   ]
  },
  {
   "cell_type": "code",
   "execution_count": 57,
   "id": "78a06aae",
   "metadata": {},
   "outputs": [
    {
     "data": {
      "text/plain": [
       "0.0"
      ]
     },
     "execution_count": 57,
     "metadata": {},
     "output_type": "execute_result"
    }
   ],
   "source": [
    "ford_copy['distance_km'].min()"
   ]
  },
  {
   "cell_type": "markdown",
   "id": "b4bbda42",
   "metadata": {},
   "source": [
    "## Multivariate Exploration\n",
    "\n",
    "**What is the relationship between gender of each user type and their hourly usage?**"
   ]
  },
  {
   "cell_type": "code",
   "execution_count": 58,
   "id": "6a16f8f7",
   "metadata": {},
   "outputs": [
    {
     "data": {
      "image/png": "[encoded data removed]",
      "text/plain": [
       "<Figure size 810.375x360 with 2 Axes>"
      ]
     },
     "metadata": {
      "needs_background": "light"
     },
     "output_type": "display_data"
    }
   ],
   "source": [
    "hour_order = [0, 1, 2, 3, 4, 5, 6, 7, 8, 9, 10, 11, 12, 13, 14, 15, 16, 17, 18, 19, 20, 21, 22, 23]\n",
    "k = sns.catplot(data=ford_copy, x='start_hour', col=\"user_type\", hue='member_gender', kind='count', sharey = False,\n",
    "                order = hour_order)\n",
    "k.set_axis_labels(\"Hour of the day\", \"Number of Bike Trips\")\n",
    "k._legend.set_title('Gender')\n",
    "k.set_titles(\"{col_name}\")\n",
    "k.fig.suptitle('FordGoBike usage per User Type and Gender, based on the day of the week', y=1.03, fontsize=14, fontweight='semibold');"
   ]
  },
  {
   "cell_type": "markdown",
   "id": "aec32723",
   "metadata": {},
   "source": [
    "From the chart above:\n",
    "\n",
    "**Customers**\n",
    "- Most female customers start their rides at 1700h followed by 0800h and 1300h and 1600h\n",
    "- Most male customers start their rides at 1700h followed by 1600h and 0800h.\n",
    "- Most customers who identify as other start their rides at 1700h and 0800h\n",
    "\n",
    "**Subscribers**\n",
    "- Most female subscribers start their rides at 0800h followed by 1700h and 0900h and 1800h\n",
    "- Most male subscribers start their rides at 1700h followed by 0800h and 0900h.\n",
    "- Most subscribers who identify as other start their rides at 1700h followed by 1800h and 0800h\n",
    "\n",
    "**What is the relationship between gender of each user type and their daily usage?**"
   ]
  },
  {
   "cell_type": "code",
   "execution_count": 59,
   "id": "be5364ae",
   "metadata": {},
   "outputs": [
    {
     "data": {
      "image/png": "[encoded data removed]",
      "text/plain": [
       "<Figure size 810.375x360 with 2 Axes>"
      ]
     },
     "metadata": {
      "needs_background": "light"
     },
     "output_type": "display_data"
    }
   ],
   "source": [
    "the_day = ['Mon', 'Tue', 'Wed', 'Thu', 'Fri', 'Sat', 'Sun']\n",
    "k = sns.catplot(data=ford_copy, x='start_time_day', col=\"user_type\", hue='member_gender', kind='count', sharey = False,\n",
    "                order = the_day)\n",
    "k.set_axis_labels(\"Day of the week\", \"Number of Bike Trips\")\n",
    "k._legend.set_title('Gender')\n",
    "k.set_titles(\"{col_name}\")\n",
    "k.fig.suptitle('FordGoBike usage per User Type and Gender, based on the day of the week', y=1.03, fontsize=14, fontweight='semibold');"
   ]
  },
  {
   "cell_type": "markdown",
   "id": "f588424d",
   "metadata": {},
   "source": [
    "From the charts above, we can see that male customers prefer to ride on Thursdays and Fridays while female customers prefer to ride on Thursday and Sunday. Customers who identify as `other` prefer to ride on Thursdays and Fridays while subscribers of the same category prefer to ride on Wednesdays and Thursdays.\n",
    "\n",
    "A heat map of the same would look something like this."
   ]
  },
  {
   "cell_type": "code",
   "execution_count": 60,
   "id": "befe7d58",
   "metadata": {},
   "outputs": [
    {
     "data": {
      "image/png": "[encoded data removed]",
      "text/plain": [
       "<Figure size 1080x1080 with 4 Axes>"
      ]
     },
     "metadata": {
      "needs_background": "light"
     },
     "output_type": "display_data"
    }
   ],
   "source": [
    "ford_copy['start_time_day'] = pd.Categorical(ford_copy['start_time_day'], \n",
    "                                             categories=['Mon', 'Tue', 'Wed', 'Thu', 'Fri', 'Sat', 'Sun'], ordered=True)\n",
    "plt.figure(figsize=(15,15))\n",
    "plt.suptitle('Hour and preferred days of Customers and Subscribers', fontsize=14, fontweight='semibold')\n",
    "\n",
    "# heatmap for subscribers\n",
    "plt.subplot(1, 2, 1)\n",
    "ford_subscriber = ford_copy.query('user_type == \"Subscriber\"').groupby(\n",
    "    ['start_hour', 'start_time_day'])['bike_id'].size().reset_index()\n",
    "ford_subscriber = ford_subscriber.pivot('start_hour', 'start_time_day', 'bike_id')\n",
    "sns.heatmap(ford_subscriber, cmap='YlGnBu')\n",
    "\n",
    "plt.title(\"Subscriber\", y=1.015)\n",
    "plt.xlabel('Day')\n",
    "plt.ylabel('Hour');\n",
    "\n",
    "# heatmap for customers\n",
    "plt.subplot(1, 2, 2)\n",
    "ford_customer = ford_copy.query('user_type == \"Customer\"').groupby([ 'start_hour', 'start_time_day'])['bike_id'].size().reset_index()\n",
    "ford_customer = ford_customer.pivot('start_hour', 'start_time_day', 'bike_id')\n",
    "sns.heatmap(ford_customer, cmap=\"YlGnBu\")\n",
    "\n",
    "\n",
    "plt.title(\"Customer\", y=1.015)\n",
    "plt.xlabel('Day')\n",
    "plt.ylabel('');"
   ]
  },
  {
   "cell_type": "markdown",
   "id": "e165632e",
   "metadata": {},
   "source": [
    "For each day the darker shades show the hour when most users prefer to start their rides. Most users from both categories aged 34 years preferred to ride on Thursdays at 1700h.\n",
    "\n",
    "**What is the distance travelled by gender and age of the users?**"
   ]
  },
  {
   "cell_type": "code",
   "execution_count": 61,
   "id": "c2eb2dc2",
   "metadata": {},
   "outputs": [
    {
     "data": {
      "image/png": "[encoded data removed]",
      "text/plain": [
       "<Figure size 1080x576 with 1 Axes>"
      ]
     },
     "metadata": {
      "needs_background": "light"
     },
     "output_type": "display_data"
    }
   ],
   "source": [
    "plt.figure(figsize=(15,8))\n",
    "ke = sns.pointplot(x='age', y='distance_km', hue='member_gender', scale=.6, data=ford_copy)\n",
    "plt.title('Distances Traveled by Gender And Age', fontsize=22, y=1.015)\n",
    "plt.xlabel('Age', labelpad=16)\n",
    "plt.ylabel('Distance in km', labelpad=16)\n",
    "leg = ke.legend()\n",
    "leg.set_title('Gender',prop={'size':16})\n",
    "ke = plt.gca();"
   ]
  }
 ],
 "metadata": {
  "kernelspec": {
   "display_name": "Python 3 (ipykernel)",
   "language": "python",
   "name": "python3"
  },
  "language_info": {
   "codemirror_mode": {
    "name": "ipython",
    "version": 3
   },
   "file_extension": ".py",
   "mimetype": "text/x-python",
   "name": "python",
   "nbconvert_exporter": "python",
   "pygments_lexer": "ipython3",
   "version": "3.10.9"
  }
 },
 "nbformat": 4,
 "nbformat_minor": 5
}
